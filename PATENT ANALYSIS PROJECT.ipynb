{
 "cells": [
  {
   "cell_type": "markdown",
   "metadata": {
    "collapsed": true
   },
   "source": [
    "<h1> Trends in Technological Advancements </h1>"
   ]
  },
  {
   "cell_type": "markdown",
   "metadata": {},
   "source": [
    "Academic papers, patents and trademarks are often a very good indication of the direction in which a field of research is evolving. In this project, we aim to procure and analyze millions of patents, published academic work and trademarks. The procured documents must range over a wide period of time (30+ years) and over diverse fields in order give us a sense of how academic research has evolved over time and how inter and cross disciplinary research has grown.\n",
    "\n",
    "**Dataset:**\n",
    "- The US Patent and Trademark Office has made all its patent and trademark information freely available for public use. The database consists of 9.4 million records from 1981 to present.\n",
    "- Utilizing public databases of published academic work (such as Google Scholar) to obtain relevant material.\n",
    "\n",
    "**Project Objectives:**\n",
    "- Identify key trends in the development of specific fields of research (eg. Advances in Deep Learning).\n",
    "- Geographical analysis of research output and understanding why different parts of the world are focussed on different fields.\n",
    "- Performing a time analysis on the data to determine the “right time” to publish (great work published too early or too late into the growth of a field are not taken well)."
   ]
  },
  {
   "cell_type": "code",
   "execution_count": 5,
   "metadata": {
    "collapsed": true
   },
   "outputs": [],
   "source": [
    "%matplotlib inline\n",
    "import scipy.sparse as sp\n",
    "import numpy as np \n",
    "import sklearn.preprocessing as sk\n",
    "import matplotlib.pyplot as plt\n",
    "import numpy as np\n",
    "from nltk.corpus import stopwords\n",
    "import collections\n",
    "stop_list=stopwords.words('english')\n",
    "from tfidf_and_cosine import tfidf\n",
    "from tfidf_and_cosine import cosine_similarity\n",
    "import operator\n",
    "import pickle\n"
   ]
  },
  {
   "cell_type": "markdown",
   "metadata": {},
   "source": [
    "<h2>Data Collection</h2>"
   ]
  },
  {
   "cell_type": "markdown",
   "metadata": {},
   "source": [
    "### Google Scholar"
   ]
  },
  {
   "cell_type": "markdown",
   "metadata": {
    "collapsed": true
   },
   "source": [
    "Google scholar is a publicly available and freely accesible search engine for scholarly literature. Here we try to obtain publication data from Google Scholar by developing a querier and parser for Google Scholar output. Although there are open source parsers [[1]](https://github.com/ckreibich/scholar.py) that do this, it is easier to write a customized parser that parses the information we need. It's classes can be invoked independently or used as a command line tool. Currently the parser implements the full functionality of Scholar's *Advanced Search* option and recursively retrieves the titles of the search outputs. Since Google does not provide the complete abstract in its output, there is no way simple way to parse the complete abstract for all results. The following code run from the command line parses the first 1000 results for a particular query and dumps them into a .pkl file."
   ]
  },
  {
   "cell_type": "code",
   "execution_count": null,
   "metadata": {
    "collapsed": false
   },
   "outputs": [],
   "source": [
    "!./scholared.py -A \"deep learning\" --after 2005 --before 2010"
   ]
  },
  {
   "cell_type": "markdown",
   "metadata": {},
   "source": [
    "The above line of code executed by the shell, parses all results for the search phrase \"deep learning\" published between the dates 2005 and 2010 and dumps them into a pkl file. This allows us to use this data later for further analysis."
   ]
  },
  {
   "cell_type": "markdown",
   "metadata": {},
   "source": [
    "<h3>From USPTO Bulk data</h3>"
   ]
  },
  {
   "cell_type": "markdown",
   "metadata": {
    "collapsed": true
   },
   "source": [
    "The US Patent and Trademark Office has made all its patent and trademark information freely available for public use. This data can be found <a href='https://pairbulkdata.uspto.gov/'>here</a>. The database consists of 9.4 million records from 1981 to present. This data is available in XML and JSON formats out of which, we chose to work with data in JSON format owing to ease of working with JSON structures. Currently, we are extracting the titles of each of the patent out of the year wise bulk data of patents. Following code extracts titles of patents from json data of patents information."
   ]
  },
  {
   "cell_type": "code",
   "execution_count": 1,
   "metadata": {
    "collapsed": false
   },
   "outputs": [
    {
     "ename": "ImportError",
     "evalue": "No module named DataCollection",
     "output_type": "error",
     "traceback": [
      "\u001b[0;31m---------------------------------------------------------------------------\u001b[0m",
      "\u001b[0;31mImportError\u001b[0m                               Traceback (most recent call last)",
      "\u001b[0;32m<ipython-input-1-b59b008b057a>\u001b[0m in \u001b[0;36m<module>\u001b[0;34m()\u001b[0m\n\u001b[0;32m----> 1\u001b[0;31m \u001b[0;32mfrom\u001b[0m \u001b[0mDataCollection\u001b[0m \u001b[0;32mimport\u001b[0m \u001b[0mdataCollection\u001b[0m\u001b[0;34m\u001b[0m\u001b[0m\n\u001b[0m\u001b[1;32m      2\u001b[0m \u001b[0;34m\u001b[0m\u001b[0m\n\u001b[1;32m      3\u001b[0m \u001b[0;31m# Extract titles of all patents of the 2016 year\u001b[0m\u001b[0;34m\u001b[0m\u001b[0;34m\u001b[0m\u001b[0m\n\u001b[1;32m      4\u001b[0m \u001b[0;31m# Takes 2016.json and dumps into 2016.pkl\u001b[0m\u001b[0;34m\u001b[0m\u001b[0;34m\u001b[0m\u001b[0m\n\u001b[1;32m      5\u001b[0m \u001b[0mdataCollection\u001b[0m\u001b[0;34m(\u001b[0m\u001b[0;36m2016\u001b[0m\u001b[0;34m)\u001b[0m\u001b[0;34m\u001b[0m\u001b[0m\n",
      "\u001b[0;31mImportError\u001b[0m: No module named DataCollection"
     ]
    }
   ],
   "source": [
    "from DataCollection import dataCollection\n",
    "\n",
    "# Extract titles of all patents of the 2016 year\n",
    "# Takes 2016.json and dumps into 2016.pkl\n",
    "dataCollection(2016)"
   ]
  },
  {
   "cell_type": "markdown",
   "metadata": {
    "collapsed": true
   },
   "source": [
    "<h3> TFIDF MATRIX </h3>"
   ]
  },
  {
   "cell_type": "markdown",
   "metadata": {},
   "source": [
    "Once,the Titles Have been collected,we aim to make some sense of it.We import the Data from the Pickle File which is stored in our Local Directory.We import the NLTK Stop Work List and remove Blank Spaces as well from each of The Titles.After this,it is fed into our TFIDF Matrix which resturns the Sparse Matrix,Dictionary of Word Count,and the List of Unique words which are present in all of the Patent Titles."
   ]
  },
  {
   "cell_type": "code",
   "execution_count": null,
   "metadata": {
    "collapsed": false
   },
   "outputs": [],
   "source": [
    "testp = pickle.load( open( \"2016.pkl\", \"rb\" ) )\n",
    "#print len(testp)\n",
    "number_of_docs=5000\n",
    "x=testp[1:number_of_docs]\n",
    "\n",
    "x=[xx.encode('UTF8') for xx in x]\n",
    "#####STOP WORD REMOVAL START########################\n",
    "test_1=[]\n",
    "for sentence in x:\n",
    "    sentence=sentence.lower()\n",
    "    text = ' '.join([word for word in sentence.split() if word not in (stopwords.words('english'))])\n",
    "    test_1.append(text)\n",
    "    \n",
    "#print test_1\n",
    "##############STOP WORD REMOVAL COMPLETE############################\n",
    "sparse_mat,word_list,dict_words=tfidf(x)\n",
    "            \n",
    "print sparse_mat.todense()\n",
    "print word_list\n",
    "print dict_words\n",
    "\n",
    " \n",
    "\n"
   ]
  },
  {
   "cell_type": "markdown",
   "metadata": {},
   "source": [
    "Here,we have printed the Given Sparse Matrix,List of Unique Words and The Dicitonary Entries correspondeding to each UNique Word and its count in all of the Documents."
   ]
  },
  {
   "cell_type": "markdown",
   "metadata": {},
   "source": [
    "<h3> Analysis on Data </h3>"
   ]
  },
  {
   "cell_type": "code",
   "execution_count": 16,
   "metadata": {
    "collapsed": false
   },
   "outputs": [
    {
     "name": "stdout",
     "output_type": "stream",
     "text": [
      "[('AMINO-ALCOHOL', 8281), ('Situ', 8280), ('Bacteria', 8279), ('Site', 8278), ('SELF', 8277), ('INCREASED', 8276), ('Surface-modified', 8275), ('OXAZOLE', 8274), ('LOCAL', 8273), ('VALUABLE', 8272), ('INSECT', 8271), ('GEARED', 8270), ('SPACE', 8269), ('BALLS', 8268), ('Procedures', 8267)]\n",
      "Document which is Most Similar to all is SYSTEM AND METHOD FOR LASER LYSIS\n"
     ]
    },
    {
     "data": {
      "text/plain": [
       "<matplotlib.text.Text at 0x110412d50>"
      ]
     },
     "execution_count": 16,
     "metadata": {},
     "output_type": "execute_result"
    },
    {
     "data": {
      "image/png": "[encoded data removed]",
      "text/plain": [
       "<matplotlib.figure.Figure at 0x10f4e9310>"
      ]
     },
     "metadata": {},
     "output_type": "display_data"
    }
   ],
   "source": [
    "thres=15\n",
    "#print dict_words\n",
    "#top=sorted(dict_words, key=c.__getitem__)\n",
    "top = sorted(dict_words.items(), key=operator.itemgetter(1))\n",
    "#print top\n",
    "top_n=top[len(top)-thres:]\n",
    "top_n=top_n[::-1]\n",
    "print top_n \n",
    "\n",
    "###########GETTING MOST SIMILAR DOCUMENTS############\n",
    "doc_sim=cosine_similarity(sparse_mat)  \n",
    "#print doc_sim\n",
    "M,N=(doc_sim).shape\n",
    "#print M,N\n",
    "a = np.ones((M, M), int)\n",
    "np.fill_diagonal(a, 0)\n",
    "#print a\n",
    "Cosine_List=np.multiply(doc_sim,a)\n",
    "#print Cosine_List\n",
    "Highest_Sim=np.argmax(Cosine_List,axis=1)\n",
    "High=np.argmax(Highest_Sim)\n",
    "#print High\n",
    "print \"Document which is Most Similar to all is:\",testp[High]\n",
    "plt.hist(Highest_Sim,M)\n",
    "plt.title(\"Document Similiarty Histogram\")\n",
    "plt.xlabel(\"Document Number\")\n",
    "plt.ylabel(\"Frequency\")\n",
    "\n",
    "###############PLOTTING THEM#####################\n",
    "\n"
   ]
  },
  {
   "cell_type": "markdown",
   "metadata": {
    "collapsed": true
   },
   "source": [
    "We attempt to Clean the Derive Similiarties Among Documents using the Cosine Similiairty Function,and see which documents  are the most co-rellated with each other.By setting the Diagonal Eleemnts to Zero,can easily extract the individual document which is most similar to the current one.We proceed to list all of these docuemnts and the Histogram is plotted above .For our given analysis,based on Document Title,the most similar one is \"System and Method for Laser Lysis\""
   ]
  },
  {
   "cell_type": "code",
   "execution_count": null,
   "metadata": {
    "collapsed": true
   },
   "outputs": [],
   "source": []
  },
  {
   "cell_type": "code",
   "execution_count": null,
   "metadata": {
    "collapsed": true
   },
   "outputs": [],
   "source": []
  }
 ],
 "metadata": {
  "anaconda-cloud": {},
  "kernelspec": {
   "display_name": "Python 2",
   "language": "python",
   "name": "python2"
  },
  "language_info": {
   "codemirror_mode": {
    "name": "ipython",
    "version": 2
   },
   "file_extension": ".py",
   "mimetype": "text/x-python",
   "name": "python",
   "nbconvert_exporter": "python",
   "pygments_lexer": "ipython2",
   "version": "2.7.12"
  }
 },
 "nbformat": 4,
 "nbformat_minor": 0
}
