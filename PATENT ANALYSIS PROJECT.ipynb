{
 "cells": [
  {
   "cell_type": "code",
   "execution_count": null,
   "metadata": {
    "collapsed": true
   },
   "outputs": [],
   "source": [
    "PATENT DATA"
   ]
  },
  {
   "cell_type": "code",
   "execution_count": null,
   "metadata": {
    "collapsed": true
   },
   "outputs": [],
   "source": [
    "import scipy.sparse as sp\n",
    "import numpy as np \n",
    "import sklearn.preprocessing as sk\n",
    "import matplotlib.pyplot as plt\n",
    "import numpy as np\n"
   ]
  },
  {
   "cell_type": "markdown",
   "metadata": {},
   "source": [
    "<h2>Data Collection</h2>"
   ]
  },
  {
   "cell_type": "markdown",
   "metadata": {},
   "source": [
    "GOOGLE SCHOLAR EXTRACTION"
   ]
  },
  {
   "cell_type": "code",
   "execution_count": null,
   "metadata": {
    "collapsed": true
   },
   "outputs": [],
   "source": []
  },
  {
   "cell_type": "markdown",
   "metadata": {},
   "source": [
    "<h3>From USPTO Bulk data</h3>"
   ]
  },
  {
   "cell_type": "markdown",
   "metadata": {
    "collapsed": true
   },
   "source": [
    "The US Patent and Trademark Office has made all its patent and trademark information freely available for public use. This data can be found <a href='https://pairbulkdata.uspto.gov/'>here</a>. The database consists of 9.4 million records from 1981 to present. This data is available in XML and JSON formats out of which, we chose to work with data in JSON format owing to ease of working with JSON structures. Currently, we are extracting the titles of each of the patent out of the year wise bulk data of patents. Following code extracts titles of patents from json data of patents information."
   ]
  },
  {
   "cell_type": "code",
   "execution_count": null,
   "metadata": {
    "collapsed": true
   },
   "outputs": [],
   "source": [
    "from DataCollection import dataCollection\n",
    "\n",
    "# Extract titles of all patents of the 2016 year\n",
    "# Takes 2016.json and dumps into 2016.pkl\n",
    "dataCollection(2016)"
   ]
  },
  {
   "cell_type": "code",
   "execution_count": null,
   "metadata": {
    "collapsed": true
   },
   "outputs": [],
   "source": [
    "TFIDF MATRIX"
   ]
  },
  {
   "cell_type": "code",
   "execution_count": null,
   "metadata": {
    "collapsed": true
   },
   "outputs": [],
   "source": [
    "\n",
    "\n",
    "\n",
    "import pickle\n",
    "\n",
    "#####INSERT DATA CLEANING REMOVING STOP WORDS#########\n",
    "def tfidf(abstract):\n",
    "\n",
    "  all_words=set([a for a in \" \".join(abstract).split(\" \") if a!=\"\"])\n",
    "  all_words_dict={k:i for i,k in enumerate(all_words)}\n",
    "  word_counts=[collections.Counter([a for a in d.split(\" \") if a !=\"\"]) for d in abstract]\n",
    "  data=[a for wc in word_counts for a in wc.values()]\n",
    "  rows=[i for i,wc in enumerate(word_counts) for a in wc.values()]\n",
    "  #print all_words_dict\n",
    "  cols=[all_words_dict[k] for wc in word_counts for k in wc.keys()]\n",
    "  #print cols,rows\n",
    "  X=sp.coo_matrix((data,(rows,cols)),(len(abstract),len(all_words)))    \n",
    "  idf=np.log(float(len(abstract))/np.asarray((X>0).sum(axis=0))[0])\n",
    "  return X*sp.diags(idf),list(all_words),all_words_dict\n",
    "\n",
    "\n",
    "testp = pickle.load( open( \"2016.pkl\", \"rb\" ) )\n",
    "#print len(testp)\n",
    "x=testp[1:500]\n",
    "\n",
    "x=[xx.encode('UTF8') for xx in x]\n",
    "\n",
    "a,b,c=tfidf(x)\n",
    "\n",
    "\n",
    "\n",
    "def cosine_similarity(X):\n",
    "    X=sk.normalize(X,norm='l2',axis=1)\n",
    "    return X.dot(X.T).todense()\n",
    "    \n",
    "def cosine_similarity2(X):\n",
    "    \n",
    "    import numpy as np\n",
    "    rowp=X.shape[0]\n",
    "    M=np.zeros((rowp,rowp))\n",
    "    for i in range(rowp):  \n",
    "        for j in range(rowp):\n",
    "            if(i==j):\n",
    "                M[i][j]=0\n",
    "            else:\n",
    "                first=(X.getrow(i).toarray()[0])\n",
    "                second=(X.getrow(j).toarray()[0])\n",
    "                numerator=np.dot(first,second)\n",
    "                xfirst=pow(sum([l*l for l in first]),0.5)\n",
    "                xsecond=pow(sum([l*l for l in second]),0.5)\n",
    "                denominator=xfirst*xsecond\n",
    "                M[i][j]=float(numerator/denominator)\n",
    "              \n",
    "                \n",
    "            \n",
    " \n",
    "    return M\n",
    "    pass\n",
    "     \n",
    "    \n",
    "#doc_sim=cosine_similarity2(a)  \n",
    "#print doc_sim\n",
    "#plt.hist(gaussian_numbers)\n",
    "##plt.title(\"Gaussian Histogram\")\n",
    "#plt.xlabel(\"Value\")\n",
    "#plt.ylabel(\"Frequency\")\n",
    "\n",
    "thres=15\n",
    "print c\n",
    "top=sorted(c, key=c.__getitem__)\n",
    "top_n=top[len(top)-thres:]\n",
    "#top_n=top_n[::-1]\n",
    "print top_n \n",
    "\n",
    "\n",
    "import pylab as plt\n",
    "\n",
    "DayOfWeekOfCall = [1,2,3]\n",
    "DispatchesOnThisWeekday = [77, 32, 42]\n",
    "\n",
    "LABELS = [\"Monday\", \"Tuesday\", \"Wednesday\"]\n",
    "\n",
    "plt.bar(DayOfWeekOfCall, DispatchesOnThisWeekday, align='center')\n",
    "plt.xticks(DayOfWeekOfCall, LABELS)\n",
    "plt.show()\n",
    " \n",
    " \n",
    "\n"
   ]
  },
  {
   "cell_type": "code",
   "execution_count": null,
   "metadata": {
    "collapsed": true
   },
   "outputs": [],
   "source": [
    "DATA CLEANING"
   ]
  },
  {
   "cell_type": "code",
   "execution_count": null,
   "metadata": {
    "collapsed": true
   },
   "outputs": [],
   "source": [
    "STOP WORD REMOVAL"
   ]
  },
  {
   "cell_type": "code",
   "execution_count": null,
   "metadata": {
    "collapsed": true
   },
   "outputs": [],
   "source": []
  }
 ],
 "metadata": {
  "anaconda-cloud": {},
  "kernelspec": {
   "display_name": "Python 2",
   "language": "python",
   "name": "python2"
  },
  "language_info": {
   "codemirror_mode": {
    "name": "ipython",
    "version": 2
   },
   "file_extension": ".py",
   "mimetype": "text/x-python",
   "name": "python",
   "nbconvert_exporter": "python",
   "pygments_lexer": "ipython2",
   "version": "2.7.12"
  }
 },
 "nbformat": 4,
 "nbformat_minor": 0
}
